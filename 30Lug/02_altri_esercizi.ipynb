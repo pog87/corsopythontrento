{
 "cells": [
  {
   "cell_type": "markdown",
   "metadata": {},
   "source": [
    "1) Modificare un elemento di una tupla\n",
    "```python\n",
    "moditupla((1,2,3),1,100)\n",
    "\n",
    "(1,100,3)\n",
    "```"
   ]
  },
  {
   "cell_type": "code",
   "execution_count": 1,
   "metadata": {},
   "outputs": [],
   "source": [
    "t=(1,2,3,4,5,6,7,8,9)"
   ]
  },
  {
   "cell_type": "code",
   "execution_count": 2,
   "metadata": {},
   "outputs": [
    {
     "data": {
      "text/plain": [
       "9"
      ]
     },
     "execution_count": 2,
     "metadata": {},
     "output_type": "execute_result"
    }
   ],
   "source": [
    "len(t)"
   ]
  },
  {
   "cell_type": "code",
   "execution_count": 3,
   "metadata": {},
   "outputs": [
    {
     "name": "stdout",
     "output_type": "stream",
     "text": [
      "(1, 2, 3, 4, 5, 6, 100, 8, 9)\n"
     ]
    }
   ],
   "source": [
    "v=()\n",
    "for i in range(0,len(t)):\n",
    "    if i==6:\n",
    "        v+= (100,) \n",
    "    else:\n",
    "        v+= (t[i],)\n",
    "print(v)"
   ]
  },
  {
   "cell_type": "code",
   "execution_count": 4,
   "metadata": {},
   "outputs": [],
   "source": [
    "def moditupla(t, idx, el):\n",
    "    v=()\n",
    "    for i in range(0,len(t)):\n",
    "        if i==idx:\n",
    "            v+= (el,) \n",
    "        else:\n",
    "            v+= (t[i],)\n",
    "    return v"
   ]
  },
  {
   "cell_type": "code",
   "execution_count": 5,
   "metadata": {},
   "outputs": [
    {
     "data": {
      "text/plain": [
       "(1, 100, 3)"
      ]
     },
     "execution_count": 5,
     "metadata": {},
     "output_type": "execute_result"
    }
   ],
   "source": [
    "moditupla((1,2,3),1,100)"
   ]
  },
  {
   "cell_type": "code",
   "execution_count": 6,
   "metadata": {},
   "outputs": [],
   "source": [
    "def moditupla2(t, idx, el):\n",
    "    tl=list(t)\n",
    "    tl[idx]=el\n",
    "    return tuple(tl)"
   ]
  },
  {
   "cell_type": "code",
   "execution_count": 7,
   "metadata": {},
   "outputs": [
    {
     "data": {
      "text/plain": [
       "(1, 100, 3)"
      ]
     },
     "execution_count": 7,
     "metadata": {},
     "output_type": "execute_result"
    }
   ],
   "source": [
    "moditupla2((1,2,3),1,100)"
   ]
  },
  {
   "cell_type": "code",
   "execution_count": 8,
   "metadata": {},
   "outputs": [
    {
     "data": {
      "text/plain": [
       "tuple"
      ]
     },
     "execution_count": 8,
     "metadata": {},
     "output_type": "execute_result"
    }
   ],
   "source": [
    "a=1,2\n",
    "type(a)"
   ]
  },
  {
   "cell_type": "code",
   "execution_count": 9,
   "metadata": {},
   "outputs": [
    {
     "name": "stdout",
     "output_type": "stream",
     "text": [
      "1\n"
     ]
    }
   ],
   "source": [
    "a,b=1,2\n",
    "print(a)"
   ]
  },
  {
   "cell_type": "markdown",
   "metadata": {},
   "source": [
    "2) Sotituire ogni occorrenza di un elemento in una lista con un elemento dato\n",
    "```python\n",
    "sostituisci([0,1,0],0,100)\n",
    "\n",
    "[100,1,100]\n",
    "```"
   ]
  },
  {
   "cell_type": "code",
   "execution_count": 10,
   "metadata": {},
   "outputs": [
    {
     "name": "stdout",
     "output_type": "stream",
     "text": [
      "[100, 2, 3, 4, 5, 6, 7, 8, 9, 100, 2, 3]\n"
     ]
    }
   ],
   "source": [
    "lst=[1,2,3,4,5,6,7,8,9,1,2,3]\n",
    "v=[]\n",
    "for l in lst:\n",
    "    if l==1:\n",
    "        v.append(100)\n",
    "    else:\n",
    "        v.append(l)\n",
    "print(v)"
   ]
  },
  {
   "cell_type": "code",
   "execution_count": 11,
   "metadata": {},
   "outputs": [],
   "source": [
    "def sostituisci(L,endo,uto):\n",
    "    v=[]\n",
    "    for l in L:\n",
    "        if l==endo:\n",
    "            v.append(uto)\n",
    "        else:\n",
    "            v.append(l)\n",
    "    return v"
   ]
  },
  {
   "cell_type": "code",
   "execution_count": 12,
   "metadata": {},
   "outputs": [
    {
     "data": {
      "text/plain": [
       "[100, 1, 100]"
      ]
     },
     "execution_count": 12,
     "metadata": {},
     "output_type": "execute_result"
    }
   ],
   "source": [
    "sostituisci([0,1,0],0,100)"
   ]
  },
  {
   "cell_type": "code",
   "execution_count": 13,
   "metadata": {},
   "outputs": [],
   "source": [
    "def sostituisci2(L,endo,uto):\n",
    "    return [l if not l==endo else uto for l in L]"
   ]
  },
  {
   "cell_type": "code",
   "execution_count": 14,
   "metadata": {},
   "outputs": [
    {
     "data": {
      "text/plain": [
       "[100, 1, 100]"
      ]
     },
     "execution_count": 14,
     "metadata": {},
     "output_type": "execute_result"
    }
   ],
   "source": [
    "sostituisci2([0,1,0],0,100)"
   ]
  },
  {
   "cell_type": "markdown",
   "metadata": {},
   "source": [
    "3) unire due dizionari"
   ]
  },
  {
   "cell_type": "code",
   "execution_count": 15,
   "metadata": {},
   "outputs": [],
   "source": [
    "diz1 = {'Nome':'Antonietta Maria', 'Altezza pre-rivoluzione':1.65,'Peso':65}\n",
    "diz2 = {'Nome':'Antonietta Marie', 'Altezza post-rivoluzione':1.35}"
   ]
  },
  {
   "cell_type": "raw",
   "metadata": {},
   "source": [
    "diz1.update(diz2)"
   ]
  },
  {
   "cell_type": "code",
   "execution_count": 16,
   "metadata": {},
   "outputs": [
    {
     "data": {
      "text/plain": [
       "dict_items([('Nome', 'Antonietta Maria'), ('Altezza pre-rivoluzione', 1.65), ('Peso', 65)])"
      ]
     },
     "execution_count": 16,
     "metadata": {},
     "output_type": "execute_result"
    }
   ],
   "source": [
    "diz1.items()"
   ]
  },
  {
   "cell_type": "code",
   "execution_count": 17,
   "metadata": {},
   "outputs": [
    {
     "data": {
      "text/plain": [
       "{'Altezza post-rivoluzione': 1.35,\n",
       " 'Altezza pre-rivoluzione': 1.65,\n",
       " 'Nome': 'Antonietta Maria',\n",
       " 'Peso': 65}"
      ]
     },
     "execution_count": 17,
     "metadata": {},
     "output_type": "execute_result"
    }
   ],
   "source": [
    "k1 = list(diz1.keys())\n",
    "it1 = list(diz1.items())\n",
    "it2 = list(diz2.items())\n",
    "\n",
    "it_sum = it1\n",
    "for el in it2:\n",
    "    if not el[0] in k1:\n",
    "        it_sum += [el]\n",
    "dict(it_sum)"
   ]
  },
  {
   "cell_type": "code",
   "execution_count": 18,
   "metadata": {},
   "outputs": [],
   "source": [
    "def merge_dict(d1,d2):\n",
    "    k1 = list(d1.keys())\n",
    "    it1 = list(d1.items())\n",
    "    it2 = list(d2.items())\n",
    "    it_sum = it1\n",
    "    for el in it2:\n",
    "        if not el[0] in k1:\n",
    "            it_sum += [el]\n",
    "    return dict(it_sum)"
   ]
  },
  {
   "cell_type": "code",
   "execution_count": 19,
   "metadata": {},
   "outputs": [
    {
     "data": {
      "text/plain": [
       "{'Altezza post-rivoluzione': 1.35,\n",
       " 'Altezza pre-rivoluzione': 1.65,\n",
       " 'Nome': 'Antonietta Maria',\n",
       " 'Peso': 65}"
      ]
     },
     "execution_count": 19,
     "metadata": {},
     "output_type": "execute_result"
    }
   ],
   "source": [
    "merge_dict(diz1,diz2)"
   ]
  },
  {
   "cell_type": "markdown",
   "metadata": {},
   "source": [
    "4) unire lista di dizionari"
   ]
  },
  {
   "cell_type": "code",
   "execution_count": 20,
   "metadata": {},
   "outputs": [],
   "source": [
    "diz1 = {'Nome':'Antonietta Maria', 'Altezza pre-rivoluzione':1.65,'Peso':65}\n",
    "diz2 = {'Nome':'Antonietta Marie', 'Altezza post-rivoluzione':1.35}\n",
    "diz3 = {'Il popolo non ha pane':'Mangino croissant!'}\n",
    "diz4 = {'Dimentico tutto':'dove ho la testa?','Peso':65}\n",
    "Dicts = [diz1, diz2, diz3, diz4]"
   ]
  },
  {
   "cell_type": "code",
   "execution_count": 21,
   "metadata": {},
   "outputs": [
    {
     "name": "stdout",
     "output_type": "stream",
     "text": [
      "{'Nome': 'Antonietta Maria', 'Altezza pre-rivoluzione': 1.65, 'Peso': 65, 'Altezza post-rivoluzione': 1.35, 'Il popolo non ha pane': 'Mangino croissant!', 'Dimentico tutto': 'dove ho la testa?'}\n"
     ]
    }
   ],
   "source": [
    "Dsum = dict()\n",
    "for d in Dicts:\n",
    "    Dsum=merge_dict(Dsum, d)\n",
    "print(Dsum)"
   ]
  },
  {
   "cell_type": "code",
   "execution_count": 22,
   "metadata": {},
   "outputs": [],
   "source": [
    "def merge_dictlist(List):\n",
    "    Dsum = dict()\n",
    "    for d in List:\n",
    "        Dsum=merge_dict(Dsum, d)\n",
    "    return Dsum"
   ]
  },
  {
   "cell_type": "code",
   "execution_count": 23,
   "metadata": {},
   "outputs": [
    {
     "data": {
      "text/plain": [
       "{'Altezza post-rivoluzione': 1.35,\n",
       " 'Altezza pre-rivoluzione': 1.65,\n",
       " 'Dimentico tutto': 'dove ho la testa?',\n",
       " 'Il popolo non ha pane': 'Mangino croissant!',\n",
       " 'Nome': 'Antonietta Maria',\n",
       " 'Peso': 65}"
      ]
     },
     "execution_count": 23,
     "metadata": {},
     "output_type": "execute_result"
    }
   ],
   "source": [
    "merge_dictlist(Dicts)"
   ]
  },
  {
   "cell_type": "code",
   "execution_count": null,
   "metadata": {},
   "outputs": [],
   "source": []
  }
 ],
 "metadata": {
  "kernelspec": {
   "display_name": "Python 3",
   "language": "python",
   "name": "python3"
  },
  "language_info": {
   "codemirror_mode": {
    "name": "ipython",
    "version": 3
   },
   "file_extension": ".py",
   "mimetype": "text/x-python",
   "name": "python",
   "nbconvert_exporter": "python",
   "pygments_lexer": "ipython3",
   "version": "3.6.4"
  }
 },
 "nbformat": 4,
 "nbformat_minor": 2
}
