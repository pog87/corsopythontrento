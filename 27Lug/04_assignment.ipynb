{
 "cells": [
  {
   "cell_type": "markdown",
   "metadata": {},
   "source": [
    "**Assignment**: Leggendo il paper sulla batteria di Rao, calcolare i punteggi corretti e z-score partendo dai punteggi grezzi e dai dati demografici contenuti nel file \"SRT-LTS.xls\".\n",
    "\n",
    "Inoltre inserire una colonna di testo \"negativo\" se z-score>-1.5, \"bordeline\" se compreso fra fra -2 e -1.5, \"positivo\" se z-score < -2.\n",
    "\n",
    "Esportare la nuova tabella in un file"
   ]
  },
  {
   "cell_type": "code",
   "execution_count": 1,
   "metadata": {},
   "outputs": [],
   "source": [
    "import numpy as np\n",
    "import pandas as pd"
   ]
  },
  {
   "cell_type": "code",
   "execution_count": 2,
   "metadata": {},
   "outputs": [],
   "source": [
    "filein = \"SRT-LTS.xls\"\n",
    "df = pd.read_excel(filein)"
   ]
  },
  {
   "cell_type": "markdown",
   "metadata": {},
   "source": [
    "Corrected_score = raw_score - Bage\\*(age - 43.9)- Beducation\\*(education - 12,7) - Bgender"
   ]
  },
  {
   "cell_type": "code",
   "execution_count": 4,
   "metadata": {},
   "outputs": [],
   "source": [
    "Bage = -0.44\n",
    "Bedu = 0.766\n",
    "Bgen = 0"
   ]
  },
  {
   "cell_type": "markdown",
   "metadata": {},
   "source": [
    "z-score = (corrected_score - mean_norm) / sd_norm"
   ]
  },
  {
   "cell_type": "code",
   "execution_count": 5,
   "metadata": {},
   "outputs": [],
   "source": [
    "mean_norm = 48.1\n",
    "sd_norm = 9.8"
   ]
  },
  {
   "cell_type": "code",
   "execution_count": null,
   "metadata": {},
   "outputs": [],
   "source": []
  }
 ],
 "metadata": {
  "kernelspec": {
   "display_name": "Python 3",
   "language": "python",
   "name": "python3"
  },
  "language_info": {
   "codemirror_mode": {
    "name": "ipython",
    "version": 3
   },
   "file_extension": ".py",
   "mimetype": "text/x-python",
   "name": "python",
   "nbconvert_exporter": "python",
   "pygments_lexer": "ipython3",
   "version": "3.6.4"
  }
 },
 "nbformat": 4,
 "nbformat_minor": 2
}
